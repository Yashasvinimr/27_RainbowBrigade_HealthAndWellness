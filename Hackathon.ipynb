{
  "nbformat": 4,
  "nbformat_minor": 0,
  "metadata": {
    "colab": {
      "provenance": [],
      "gpuType": "T4",
      "authorship_tag": "ABX9TyPmcMnn+ZkM7sKh/PkuZZ8l",
      "include_colab_link": true
    },
    "kernelspec": {
      "name": "python3",
      "display_name": "Python 3"
    },
    "language_info": {
      "name": "python"
    },
    "accelerator": "GPU"
  },
  "cells": [
    {
      "cell_type": "markdown",
      "metadata": {
        "id": "view-in-github",
        "colab_type": "text"
      },
      "source": [
        "<a href=\"https://colab.research.google.com/github/Yashasvinimr/27_RainbowBrigade_HealthAndWellness/blob/main/Hackathon.ipynb\" target=\"_parent\"><img src=\"https://colab.research.google.com/assets/colab-badge.svg\" alt=\"Open In Colab\"/></a>"
      ]
    },
    {
      "cell_type": "code",
      "execution_count": 1,
      "metadata": {
        "id": "LDoxp0JiPJSu",
        "colab": {
          "base_uri": "https://localhost:8080/"
        },
        "outputId": "31bd70cb-24df-4d8f-b359-33ff6d4dadec"
      },
      "outputs": [
        {
          "output_type": "stream",
          "name": "stdout",
          "text": [
            "Mounted at /content/drive\n"
          ]
        }
      ],
      "source": [
        "from google.colab import drive\n",
        "drive.mount('/content/drive')"
      ]
    },
    {
      "cell_type": "code",
      "source": [
        "import os\n",
        "\n",
        "# Path to your dataset folder in Google Drive\n",
        "dataset_path = '/content/drive/MyDrive/Hackathon/Healthy teeth'\n",
        "\n",
        "# Check the contents of the folder\n",
        "print(os.listdir(dataset_path))"
      ],
      "metadata": {
        "colab": {
          "base_uri": "https://localhost:8080/"
        },
        "id": "0zjfSWdXULVh",
        "outputId": "af7ab5a8-1372-425a-ccdf-c7e5c826abb0"
      },
      "execution_count": 3,
      "outputs": [
        {
          "output_type": "stream",
          "name": "stdout",
          "text": [
            "['h25.jpg', 'h23.jpg', 'h20.jpg', 'h17.jpg', 'h18.jpg', 'h16.jpg', 'h15.jpg', 'h13.jpg', 'h11.jpg', 'h12.jpg', 'h14.jpg', 'h9.jpg', 'h10.jpg', 'h8.jpg', 'h7.jpg', 'h34.jpg', 'h39.jpg', 'h43.jpg', 'h42.jpeg', 'h41.jpg', 'h45.jpg', 'h44.jpg', 'h46.jpg', 'h40.jpg', 'h38.jpg', 'h47.jpg', 'h49.jpg', 'h51.jpg', 'h52.jpg', 'h53.jpg', 'h50.jpg', 'h48.jpg', 'h37.jpg', 'h54.jpg', 'h28.jpg', 'h31.jpeg', 'h29.jpg', 'h27.jpg', 'h22.jpg', 'h35.jpg', 'h30.jpg', 'h32.jpg', 'h33.jpg', 'h36.jpg', 'h26.jpg', 'h21.jpg', 'h24.jpg', 'h19.jpg', 'h1.jpg', 'h55.jpg', 'h4.jpg', 'h6.jpg', 'h5.jpg', 'h3.jpg', 'h2.jpg']\n"
          ]
        }
      ]
    },
    {
      "cell_type": "code",
      "source": [
        "import os\n",
        "from tensorflow.keras.preprocessing.image import ImageDataGenerator, load_img, img_to_array, save_img\n",
        "\n",
        "# Folder to save augmented images\n",
        "augmented_path = '/content/drive/MyDrive/Hackathon/augmented_images_healthy'\n",
        "os.makedirs(augmented_path, exist_ok=True)\n",
        "\n",
        "# Augmentation settings\n",
        "datagen = ImageDataGenerator(\n",
        "    rotation_range=20,\n",
        "    width_shift_range=0.2,\n",
        "    height_shift_range=0.2,\n",
        "    shear_range=0.2,\n",
        "    zoom_range=0.2,\n",
        "    horizontal_flip=True,\n",
        "    fill_mode='nearest'\n",
        ")\n",
        "\n",
        "# Iterate through all images in the dataset folder\n",
        "i = 1\n",
        "for file_name in os.listdir(dataset_path):\n",
        "    if file_name.lower().endswith(('.png', '.jpeg', '.jpg')):  # Check valid image types\n",
        "        file_path = os.path.join(dataset_path, file_name)\n",
        "\n",
        "        # Load and prepare the image\n",
        "        img = load_img(file_path)        # Load image\n",
        "        img_array = img_to_array(img)   # Convert to numpy array\n",
        "        img_array = img_array.reshape((1,) + img_array.shape)  # Reshape for generator\n",
        "\n",
        "        # Augment and save images\n",
        "        for batch in datagen.flow(img_array, batch_size=1):\n",
        "            # Ensure the directory exists before saving the image\n",
        "            save_path = os.path.join(augmented_path, f'{i}.jpg')\n",
        "            os.makedirs(os.path.dirname(save_path), exist_ok=True)\n",
        "\n",
        "            save_img(save_path, batch[0])  # Save as 1.jpg, 2.jpg, ...\n",
        "            i += 1\n",
        "            if i > 100:  # Generate a maximum of 100 augmented images\n",
        "                break"
      ],
      "metadata": {
        "id": "zIq6dwtjUugf"
      },
      "execution_count": 10,
      "outputs": []
    },
    {
      "cell_type": "code",
      "source": [
        "# Define paths\n",
        "import albumentations as A\n",
        "import cv2\n",
        "input_dir = '/content/drive/MyDrive/Hackathon/Healthy teeth'  # Replace with your folder containing images\n",
        "output_dir = '/content/drive/MyDrive/Hackathon/healthy_gum_aug'  # Folder to save augmented images\n",
        "\n",
        "# Create output directory if it doesn't exist\n",
        "os.makedirs(output_dir, exist_ok=True)\n",
        "\n",
        "# Define augmentation pipeline using Albumentations\n",
        "augment = A.Compose([\n",
        "    A.HorizontalFlip(p=0.5),\n",
        "    A.Rotate(limit=30, p=0.5),\n",
        "    A.RandomBrightnessContrast(p=0.5),\n",
        "    A.GaussianBlur(blur_limit=(3, 7), p=0.5),\n",
        "])\n",
        "\n",
        "# Get list of images\n",
        "image_files = [f for f in os.listdir(input_dir) if f.lower().endswith(('.jpg', '.jpeg', '.png'))]\n",
        "\n",
        "# Initialize counter for renaming\n",
        "counter = 1\n",
        "\n",
        "# Process each image\n",
        "for image_file in image_files:\n",
        "    # Load image\n",
        "    img_path = os.path.join(input_dir, image_file)\n",
        "    image = cv2.imread(img_path)\n",
        "\n",
        "    if image is None:\n",
        "        print(f\"Could not load image {image_file}. Skipping.\")\n",
        "        continue\n",
        "\n",
        "    # Perform augmentation\n",
        "    augmented = augment(image=image)\n",
        "    augmented_image = augmented['image']\n",
        "\n",
        "    # Save augmented image with sequential name\n",
        "    output_path = os.path.join(output_dir, f\"{counter}.jpg\")\n",
        "    cv2.imwrite(output_path, augmented_image)\n",
        "    counter += 1\n",
        "\n",
        "print(f\"Augmented images saved to {output_dir}\")\n"
      ],
      "metadata": {
        "colab": {
          "base_uri": "https://localhost:8080/"
        },
        "id": "pkX4IBq6byMX",
        "outputId": "1e2ce6fe-d0bf-4cab-8f7c-834bcc8917f2"
      },
      "execution_count": 13,
      "outputs": [
        {
          "output_type": "stream",
          "name": "stdout",
          "text": [
            "Augmented images saved to /content/drive/MyDrive/Hackathon/healthy_gum_aug\n"
          ]
        }
      ]
    },
    {
      "cell_type": "code",
      "source": [
        "from tensorflow.keras.preprocessing.image import ImageDataGenerator\n",
        "\n",
        "# Path to the dataset\n",
        "dataset_path = '/content/drive/MyDrive/Hackathon'  # Update this path\n",
        "\n",
        "# Data augmentation and preprocessing\n",
        "datagen = ImageDataGenerator(\n",
        "    rescale=1./255,          # Normalize pixel values between 0 and 1\n",
        "    validation_split=0.2     # Split dataset into training (80%) and validation (20%)\n",
        ")\n",
        "\n",
        "train_gen = datagen.flow_from_directory(\n",
        "    dataset_path,\n",
        "    target_size=(150, 150),  # Resize images to 150x150\n",
        "    batch_size=32,\n",
        "    class_mode='categorical',  # Multiclass classification\n",
        "    subset='training'\n",
        ")\n",
        "\n",
        "val_gen = datagen.flow_from_directory(\n",
        "    dataset_path,\n",
        "    target_size=(150, 150),  # Resize images to 150x150\n",
        "    batch_size=32,\n",
        "    class_mode='categorical',\n",
        "    subset='validation'\n",
        ")\n"
      ],
      "metadata": {
        "colab": {
          "base_uri": "https://localhost:8080/"
        },
        "id": "cT7S57LIhMF2",
        "outputId": "9eda7e85-3099-4f99-dfaa-9ee5bc148236"
      },
      "execution_count": 2,
      "outputs": [
        {
          "output_type": "stream",
          "name": "stdout",
          "text": [
            "Found 5549 images belonging to 4 classes.\n",
            "Found 1384 images belonging to 4 classes.\n"
          ]
        }
      ]
    },
    {
      "cell_type": "code",
      "source": [
        "from tensorflow.keras.models import Sequential\n",
        "from tensorflow.keras.layers import Conv2D, MaxPooling2D, Flatten, Dense, Dropout\n",
        "from tensorflow.keras.callbacks import EarlyStopping\n",
        "\n",
        "# Model architecture\n",
        "model = Sequential([\n",
        "    Conv2D(32, (3, 3), activation='relu', input_shape=(150, 150, 3)),\n",
        "    MaxPooling2D((2, 2)),\n",
        "    Conv2D(64, (3, 3), activation='relu'),\n",
        "    MaxPooling2D((2, 2)),\n",
        "    Conv2D(128, (3, 3), activation='relu'),\n",
        "    MaxPooling2D((2, 2)),\n",
        "    Flatten(),\n",
        "    Dense(128, activation='relu'),\n",
        "    Dropout(0.5),\n",
        "    Dense(4, activation='softmax')  # 4 output classes\n",
        "])\n",
        "\n",
        "model.compile(optimizer='adam', loss='categorical_crossentropy', metrics=['accuracy'])\n",
        "\n",
        "# Early stopping to prevent overfitting\n",
        "early_stopping = EarlyStopping(monitor='val_loss', patience=5, restore_best_weights=True)\n",
        "\n",
        "# Train the model\n",
        "history = model.fit(\n",
        "    train_gen,\n",
        "    validation_data=val_gen,\n",
        "    epochs=20,\n",
        "    callbacks=[early_stopping]\n",
        ")\n",
        "\n",
        "# Save the trained model\n",
        "model.save('/content/drive/MyDrive/Hackathon/tooth_classifier_model.keras')\n"
      ],
      "metadata": {
        "colab": {
          "base_uri": "https://localhost:8080/"
        },
        "id": "LR3QkyfRhaOz",
        "outputId": "65cbda4c-eaf5-4322-ffa6-4bc9e7871e0b"
      },
      "execution_count": 4,
      "outputs": [
        {
          "output_type": "stream",
          "name": "stdout",
          "text": [
            "Epoch 1/20\n",
            "\u001b[1m174/174\u001b[0m \u001b[32m━━━━━━━━━━━━━━━━━━━━\u001b[0m\u001b[37m\u001b[0m \u001b[1m40s\u001b[0m 208ms/step - accuracy: 0.6105 - loss: 0.9620 - val_accuracy: 0.7731 - val_loss: 0.5663\n",
            "Epoch 2/20\n",
            "\u001b[1m174/174\u001b[0m \u001b[32m━━━━━━━━━━━━━━━━━━━━\u001b[0m\u001b[37m\u001b[0m \u001b[1m38s\u001b[0m 200ms/step - accuracy: 0.7979 - loss: 0.5147 - val_accuracy: 0.7796 - val_loss: 0.5920\n",
            "Epoch 3/20\n",
            "\u001b[1m174/174\u001b[0m \u001b[32m━━━━━━━━━━━━━━━━━━━━\u001b[0m\u001b[37m\u001b[0m \u001b[1m35s\u001b[0m 167ms/step - accuracy: 0.8380 - loss: 0.4209 - val_accuracy: 0.8410 - val_loss: 0.4564\n",
            "Epoch 4/20\n",
            "\u001b[1m174/174\u001b[0m \u001b[32m━━━━━━━━━━━━━━━━━━━━\u001b[0m\u001b[37m\u001b[0m \u001b[1m30s\u001b[0m 167ms/step - accuracy: 0.8673 - loss: 0.3552 - val_accuracy: 0.8056 - val_loss: 0.5128\n",
            "Epoch 5/20\n",
            "\u001b[1m174/174\u001b[0m \u001b[32m━━━━━━━━━━━━━━━━━━━━\u001b[0m\u001b[37m\u001b[0m \u001b[1m41s\u001b[0m 167ms/step - accuracy: 0.8880 - loss: 0.2993 - val_accuracy: 0.8750 - val_loss: 0.3612\n",
            "Epoch 6/20\n",
            "\u001b[1m174/174\u001b[0m \u001b[32m━━━━━━━━━━━━━━━━━━━━\u001b[0m\u001b[37m\u001b[0m \u001b[1m40s\u001b[0m 164ms/step - accuracy: 0.9216 - loss: 0.2306 - val_accuracy: 0.8750 - val_loss: 0.3309\n",
            "Epoch 7/20\n",
            "\u001b[1m174/174\u001b[0m \u001b[32m━━━━━━━━━━━━━━━━━━━━\u001b[0m\u001b[37m\u001b[0m \u001b[1m41s\u001b[0m 166ms/step - accuracy: 0.9409 - loss: 0.1728 - val_accuracy: 0.8801 - val_loss: 0.3860\n",
            "Epoch 8/20\n",
            "\u001b[1m174/174\u001b[0m \u001b[32m━━━━━━━━━━━━━━━━━━━━\u001b[0m\u001b[37m\u001b[0m \u001b[1m29s\u001b[0m 164ms/step - accuracy: 0.9518 - loss: 0.1334 - val_accuracy: 0.8642 - val_loss: 0.4674\n",
            "Epoch 9/20\n",
            "\u001b[1m174/174\u001b[0m \u001b[32m━━━━━━━━━━━━━━━━━━━━\u001b[0m\u001b[37m\u001b[0m \u001b[1m29s\u001b[0m 164ms/step - accuracy: 0.9559 - loss: 0.1155 - val_accuracy: 0.8244 - val_loss: 0.5897\n",
            "Epoch 10/20\n",
            "\u001b[1m174/174\u001b[0m \u001b[32m━━━━━━━━━━━━━━━━━━━━\u001b[0m\u001b[37m\u001b[0m \u001b[1m29s\u001b[0m 163ms/step - accuracy: 0.9629 - loss: 0.1120 - val_accuracy: 0.8858 - val_loss: 0.4712\n",
            "Epoch 11/20\n",
            "\u001b[1m174/174\u001b[0m \u001b[32m━━━━━━━━━━━━━━━━━━━━\u001b[0m\u001b[37m\u001b[0m \u001b[1m42s\u001b[0m 171ms/step - accuracy: 0.9728 - loss: 0.0877 - val_accuracy: 0.8880 - val_loss: 0.4230\n"
          ]
        }
      ]
    },
    {
      "cell_type": "code",
      "source": [
        "from tensorflow.keras.models import load_model\n",
        "from tensorflow.keras.preprocessing.image import load_img, img_to_array\n",
        "import numpy as np\n",
        "from google.colab import files\n",
        "\n",
        "# Load the trained model\n",
        "model = load_model('/content/drive/MyDrive/Hackathon/tooth_classifier_model.keras')\n",
        "\n",
        "# Class labels corresponding to folder names\n",
        "class_names = ['Gingivitis', 'Healthy_Gum_Aug', 'Mouth_Ulcer_Augmented_DataSet', 'Tooth_Discoloration_Augmented_DataSet']\n",
        "\n",
        "# Function to predict the uploaded image\n",
        "def predict_image(image):\n",
        "    img = load_img(image, target_size=(150, 150))  # Resize image to match model input\n",
        "    img_array = img_to_array(img) / 255.0  # Normalize pixel values\n",
        "    img_array = np.expand_dims(img_array, axis=0)  # Add batch dimension\n",
        "\n",
        "    # Predict the class of the image\n",
        "    predictions = model.predict(img_array)\n",
        "    predicted_class = class_names[np.argmax(predictions)]  # Get class name with highest probability\n",
        "\n",
        "    return predicted_class\n",
        "\n",
        "# Upload image from local system\n",
        "uploaded = files.upload()  # Upload the file manually\n",
        "uploaded_image_path = list(uploaded.keys())[0]  # Get the uploaded file name\n",
        "\n",
        "# Predict for the uploaded image\n",
        "result = predict_image(uploaded_image_path)\n",
        "print(f\"The uploaded image is classified as: {result}\")\n"
      ],
      "metadata": {
        "colab": {
          "base_uri": "https://localhost:8080/",
          "height": 110
        },
        "id": "RJLY1unL662k",
        "outputId": "c1e7810c-6add-4086-d928-1be7ff852566"
      },
      "execution_count": 7,
      "outputs": [
        {
          "output_type": "display_data",
          "data": {
            "text/plain": [
              "<IPython.core.display.HTML object>"
            ],
            "text/html": [
              "\n",
              "     <input type=\"file\" id=\"files-700d1822-d101-46b5-b1af-eacbdc7f0e8b\" name=\"files[]\" multiple disabled\n",
              "        style=\"border:none\" />\n",
              "     <output id=\"result-700d1822-d101-46b5-b1af-eacbdc7f0e8b\">\n",
              "      Upload widget is only available when the cell has been executed in the\n",
              "      current browser session. Please rerun this cell to enable.\n",
              "      </output>\n",
              "      <script>// Copyright 2017 Google LLC\n",
              "//\n",
              "// Licensed under the Apache License, Version 2.0 (the \"License\");\n",
              "// you may not use this file except in compliance with the License.\n",
              "// You may obtain a copy of the License at\n",
              "//\n",
              "//      http://www.apache.org/licenses/LICENSE-2.0\n",
              "//\n",
              "// Unless required by applicable law or agreed to in writing, software\n",
              "// distributed under the License is distributed on an \"AS IS\" BASIS,\n",
              "// WITHOUT WARRANTIES OR CONDITIONS OF ANY KIND, either express or implied.\n",
              "// See the License for the specific language governing permissions and\n",
              "// limitations under the License.\n",
              "\n",
              "/**\n",
              " * @fileoverview Helpers for google.colab Python module.\n",
              " */\n",
              "(function(scope) {\n",
              "function span(text, styleAttributes = {}) {\n",
              "  const element = document.createElement('span');\n",
              "  element.textContent = text;\n",
              "  for (const key of Object.keys(styleAttributes)) {\n",
              "    element.style[key] = styleAttributes[key];\n",
              "  }\n",
              "  return element;\n",
              "}\n",
              "\n",
              "// Max number of bytes which will be uploaded at a time.\n",
              "const MAX_PAYLOAD_SIZE = 100 * 1024;\n",
              "\n",
              "function _uploadFiles(inputId, outputId) {\n",
              "  const steps = uploadFilesStep(inputId, outputId);\n",
              "  const outputElement = document.getElementById(outputId);\n",
              "  // Cache steps on the outputElement to make it available for the next call\n",
              "  // to uploadFilesContinue from Python.\n",
              "  outputElement.steps = steps;\n",
              "\n",
              "  return _uploadFilesContinue(outputId);\n",
              "}\n",
              "\n",
              "// This is roughly an async generator (not supported in the browser yet),\n",
              "// where there are multiple asynchronous steps and the Python side is going\n",
              "// to poll for completion of each step.\n",
              "// This uses a Promise to block the python side on completion of each step,\n",
              "// then passes the result of the previous step as the input to the next step.\n",
              "function _uploadFilesContinue(outputId) {\n",
              "  const outputElement = document.getElementById(outputId);\n",
              "  const steps = outputElement.steps;\n",
              "\n",
              "  const next = steps.next(outputElement.lastPromiseValue);\n",
              "  return Promise.resolve(next.value.promise).then((value) => {\n",
              "    // Cache the last promise value to make it available to the next\n",
              "    // step of the generator.\n",
              "    outputElement.lastPromiseValue = value;\n",
              "    return next.value.response;\n",
              "  });\n",
              "}\n",
              "\n",
              "/**\n",
              " * Generator function which is called between each async step of the upload\n",
              " * process.\n",
              " * @param {string} inputId Element ID of the input file picker element.\n",
              " * @param {string} outputId Element ID of the output display.\n",
              " * @return {!Iterable<!Object>} Iterable of next steps.\n",
              " */\n",
              "function* uploadFilesStep(inputId, outputId) {\n",
              "  const inputElement = document.getElementById(inputId);\n",
              "  inputElement.disabled = false;\n",
              "\n",
              "  const outputElement = document.getElementById(outputId);\n",
              "  outputElement.innerHTML = '';\n",
              "\n",
              "  const pickedPromise = new Promise((resolve) => {\n",
              "    inputElement.addEventListener('change', (e) => {\n",
              "      resolve(e.target.files);\n",
              "    });\n",
              "  });\n",
              "\n",
              "  const cancel = document.createElement('button');\n",
              "  inputElement.parentElement.appendChild(cancel);\n",
              "  cancel.textContent = 'Cancel upload';\n",
              "  const cancelPromise = new Promise((resolve) => {\n",
              "    cancel.onclick = () => {\n",
              "      resolve(null);\n",
              "    };\n",
              "  });\n",
              "\n",
              "  // Wait for the user to pick the files.\n",
              "  const files = yield {\n",
              "    promise: Promise.race([pickedPromise, cancelPromise]),\n",
              "    response: {\n",
              "      action: 'starting',\n",
              "    }\n",
              "  };\n",
              "\n",
              "  cancel.remove();\n",
              "\n",
              "  // Disable the input element since further picks are not allowed.\n",
              "  inputElement.disabled = true;\n",
              "\n",
              "  if (!files) {\n",
              "    return {\n",
              "      response: {\n",
              "        action: 'complete',\n",
              "      }\n",
              "    };\n",
              "  }\n",
              "\n",
              "  for (const file of files) {\n",
              "    const li = document.createElement('li');\n",
              "    li.append(span(file.name, {fontWeight: 'bold'}));\n",
              "    li.append(span(\n",
              "        `(${file.type || 'n/a'}) - ${file.size} bytes, ` +\n",
              "        `last modified: ${\n",
              "            file.lastModifiedDate ? file.lastModifiedDate.toLocaleDateString() :\n",
              "                                    'n/a'} - `));\n",
              "    const percent = span('0% done');\n",
              "    li.appendChild(percent);\n",
              "\n",
              "    outputElement.appendChild(li);\n",
              "\n",
              "    const fileDataPromise = new Promise((resolve) => {\n",
              "      const reader = new FileReader();\n",
              "      reader.onload = (e) => {\n",
              "        resolve(e.target.result);\n",
              "      };\n",
              "      reader.readAsArrayBuffer(file);\n",
              "    });\n",
              "    // Wait for the data to be ready.\n",
              "    let fileData = yield {\n",
              "      promise: fileDataPromise,\n",
              "      response: {\n",
              "        action: 'continue',\n",
              "      }\n",
              "    };\n",
              "\n",
              "    // Use a chunked sending to avoid message size limits. See b/62115660.\n",
              "    let position = 0;\n",
              "    do {\n",
              "      const length = Math.min(fileData.byteLength - position, MAX_PAYLOAD_SIZE);\n",
              "      const chunk = new Uint8Array(fileData, position, length);\n",
              "      position += length;\n",
              "\n",
              "      const base64 = btoa(String.fromCharCode.apply(null, chunk));\n",
              "      yield {\n",
              "        response: {\n",
              "          action: 'append',\n",
              "          file: file.name,\n",
              "          data: base64,\n",
              "        },\n",
              "      };\n",
              "\n",
              "      let percentDone = fileData.byteLength === 0 ?\n",
              "          100 :\n",
              "          Math.round((position / fileData.byteLength) * 100);\n",
              "      percent.textContent = `${percentDone}% done`;\n",
              "\n",
              "    } while (position < fileData.byteLength);\n",
              "  }\n",
              "\n",
              "  // All done.\n",
              "  yield {\n",
              "    response: {\n",
              "      action: 'complete',\n",
              "    }\n",
              "  };\n",
              "}\n",
              "\n",
              "scope.google = scope.google || {};\n",
              "scope.google.colab = scope.google.colab || {};\n",
              "scope.google.colab._files = {\n",
              "  _uploadFiles,\n",
              "  _uploadFilesContinue,\n",
              "};\n",
              "})(self);\n",
              "</script> "
            ]
          },
          "metadata": {}
        },
        {
          "output_type": "stream",
          "name": "stdout",
          "text": [
            "Saving gingi.jpg to gingi.jpg\n",
            "\u001b[1m1/1\u001b[0m \u001b[32m━━━━━━━━━━━━━━━━━━━━\u001b[0m\u001b[37m\u001b[0m \u001b[1m0s\u001b[0m 199ms/step\n",
            "The uploaded image is classified as: Gingivitis\n"
          ]
        }
      ]
    }
  ]
}